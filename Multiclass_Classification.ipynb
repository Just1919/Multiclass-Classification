{
  "nbformat": 4,
  "nbformat_minor": 0,
  "metadata": {
    "colab": {
      "provenance": [],
      "authorship_tag": "ABX9TyMEwI4MVk6QA2a29m/wCVQn",
      "include_colab_link": true
    },
    "kernelspec": {
      "name": "python3",
      "display_name": "Python 3"
    },
    "language_info": {
      "name": "python"
    }
  },
  "cells": [
    {
      "cell_type": "markdown",
      "metadata": {
        "id": "view-in-github",
        "colab_type": "text"
      },
      "source": [
        "<a href=\"https://colab.research.google.com/github/Just1919/Multiclass-Classification/blob/main/Multiclass_Classification.ipynb\" target=\"_parent\"><img src=\"https://colab.research.google.com/assets/colab-badge.svg\" alt=\"Open In Colab\"/></a>"
      ]
    },
    {
      "cell_type": "markdown",
      "source": [
        "## Multiclass Classification\n",
        "\n",
        "\n",
        "Now we move on to multiclass classification, where there are n possible outcomes instead of just two.\n",
        "A classic example is optical character recognition: analyzing a handwritten digit and predicting whether it’s 0 through 9. Another example is face recognition, where a photo is matched against a model trained to identify hundreds of individuals.\n",
        "\n",
        "Almost everything you learned about binary classification also applies to multiclass classification. In Scikit-learn, any classifier designed for binary problems can also be used for multiclass tasks. This is a major advantage, because many libraries require you to write extra code or use specialized methods to extend algorithms like logistic regression to handle multiple classes. Scikit takes care of this automatically.\n",
        "\n",
        "For logistic regression, Scikit-learn uses two possible strategies to handle multiclass problems (controlled by the multi_class parameter in LogisticRegression, with the default being 'auto'):\n",
        "\n",
        "1. Multinomial logistic regression: replaces the logistic (sigmoid) function with a softmax function, producing one probability per class.\n",
        "\n",
        "2. One-vs-Rest (OvR) / One-vs-All: trains n binary classifiers (one per class). Each model distinguishes one class against all others. At prediction time, the input is evaluated across all n models, and the class with the highest probability is selected.\n",
        "\n",
        "\n",
        "\n",
        "\n",
        "\n",
        "\n",
        "The one-vs-rest (OvR) approach works well with logistic regression, but for algorithms that can only handle binary classification, Scikit-learn often uses a one-vs-one (OvO) strategy instead. For example, when using the SVC class (Support Vector Machine), Scikit automatically builds a separate model for every possible pair of classes. If your dataset has four classes, this results in six models being created behind the scenes.\n",
        "\n",
        "You don’t need to worry about these details to train a multiclass classifier, but they help explain why some models consume more memory and take longer to train than others. Certain algorithms, such as Random Forests and Gradient Boosting Machines (GBMs), support multiclass classification natively. For others, Scikit-learn takes care of the extra work transparently so that you don’t have to.\n",
        "\n",
        "In short: all Scikit-learn classifiers can handle both binary and multiclass classification, which keeps your code simple and lets you focus on building and training your models rather than dealing with the algorithm’s internal mechanics.\n",
        "\n",
        "### Building a Digit Recognition Model\n",
        "\n",
        "Want to try out multiclass classification in practice? Let’s build a model that looks at scanned images of handwritten digits and predicts which digit (0–9) each image represents. The U.S. Postal Service developed a similar system years ago to recognize handwritten ZIP codes as part of their mail-sorting automation.\n",
        "\n",
        "For our example, we’ll use a dataset included with Scikit-learn: the Optical Recognition of Handwritten Digits dataset from the University of California, Irvine. It contains nearly 1,800 digit samples, each represented as an 8 × 8 grid of values ranging from 0 to 16, where higher values correspond to darker pixels.\n",
        "\n",
        "We’ll apply logistic regression to make predictions with this data. Figure 3-7 displays the first 50 digits from the dataset\n"
      ],
      "metadata": {
        "id": "96Toa_hOsJbk"
      }
    },
    {
      "cell_type": "code",
      "execution_count": 4,
      "metadata": {
        "id": "hRded0L9qqRg"
      },
      "outputs": [],
      "source": [
        "#Import libraries\n",
        "from sklearn.datasets import load_digits\n",
        "from sklearn.model_selection import train_test_split\n",
        "from sklearn.linear_model import LogisticRegression\n",
        "from sklearn import metrics\n",
        "import matplotlib.pyplot as plt\n",
        "import numpy as np"
      ]
    },
    {
      "cell_type": "code",
      "source": [
        "digits=load_digits()\n",
        "print(\"digit.images: \"+str(digits.images.shape))\n",
        "print(\"digit.data: \"+str(digits.data.shape))\n",
        "print(\"digit.target: \"+str(digits.target.shape))"
      ],
      "metadata": {
        "colab": {
          "base_uri": "https://localhost:8080/"
        },
        "id": "cOQGJsks4Aog",
        "outputId": "7baa5bd9-44b7-4ba0-da09-32ad37f5fb34"
      },
      "execution_count": 3,
      "outputs": [
        {
          "output_type": "stream",
          "name": "stdout",
          "text": [
            "digit.images: (1797, 8, 8)\n",
            "digit.data: (1797, 64)\n",
            "digit.target: (1797,)\n"
          ]
        }
      ]
    },
    {
      "cell_type": "code",
      "source": [
        "#Plot the digits\n",
        "digits.images[0]"
      ],
      "metadata": {
        "colab": {
          "base_uri": "https://localhost:8080/"
        },
        "id": "NaKQegoq4kYB",
        "outputId": "377f6bf7-4ab0-48cb-bc75-3f35ec23be69"
      },
      "execution_count": 6,
      "outputs": [
        {
          "output_type": "execute_result",
          "data": {
            "text/plain": [
              "array([[ 0.,  0.,  5., 13.,  9.,  1.,  0.,  0.],\n",
              "       [ 0.,  0., 13., 15., 10., 15.,  5.,  0.],\n",
              "       [ 0.,  3., 15.,  2.,  0., 11.,  8.,  0.],\n",
              "       [ 0.,  4., 12.,  0.,  0.,  8.,  8.,  0.],\n",
              "       [ 0.,  5.,  8.,  0.,  0.,  9.,  8.,  0.],\n",
              "       [ 0.,  4., 11.,  0.,  1., 12.,  7.,  0.],\n",
              "       [ 0.,  2., 14.,  5., 10., 12.,  0.,  0.],\n",
              "       [ 0.,  0.,  6., 13., 10.,  0.,  0.,  0.]])"
            ]
          },
          "metadata": {},
          "execution_count": 6
        }
      ]
    },
    {
      "cell_type": "code",
      "source": [
        "digits.images[1]"
      ],
      "metadata": {
        "colab": {
          "base_uri": "https://localhost:8080/"
        },
        "id": "LhjaQfq-4Y74",
        "outputId": "9a68e0e2-8730-491d-f15d-6deda613efad"
      },
      "execution_count": 8,
      "outputs": [
        {
          "output_type": "execute_result",
          "data": {
            "text/plain": [
              "array([[ 0.,  0.,  0., 12., 13.,  5.,  0.,  0.],\n",
              "       [ 0.,  0.,  0., 11., 16.,  9.,  0.,  0.],\n",
              "       [ 0.,  0.,  3., 15., 16.,  6.,  0.,  0.],\n",
              "       [ 0.,  7., 15., 16., 16.,  2.,  0.,  0.],\n",
              "       [ 0.,  0.,  1., 16., 16.,  3.,  0.,  0.],\n",
              "       [ 0.,  0.,  1., 16., 16.,  6.,  0.,  0.],\n",
              "       [ 0.,  0.,  1., 16., 16.,  6.,  0.,  0.],\n",
              "       [ 0.,  0.,  0., 11., 16., 10.,  0.,  0.]])"
            ]
          },
          "metadata": {},
          "execution_count": 8
        }
      ]
    },
    {
      "cell_type": "code",
      "source": [
        "plt.tick_params(axis='both', which='both', bottom=False, top=False, left=False, right=False, labelbottom=False, labelleft=False)\n",
        "plt.imshow(digits.images[0], cmap=plt.cm.gray_r)"
      ],
      "metadata": {
        "colab": {
          "base_uri": "https://localhost:8080/",
          "height": 424
        },
        "id": "xWzP27uw5NTk",
        "outputId": "ec9c94ba-fbab-4f4a-ae26-5411a35d9d5c"
      },
      "execution_count": 10,
      "outputs": [
        {
          "output_type": "execute_result",
          "data": {
            "text/plain": [
              "<matplotlib.image.AxesImage at 0x7a0d1f24be90>"
            ]
          },
          "metadata": {},
          "execution_count": 10
        },
        {
          "output_type": "display_data",
          "data": {
            "text/plain": [
              "<Figure size 640x480 with 1 Axes>"
            ],
            "image/png": "[encoded data removed]"
          },
          "metadata": {}
        }
      ]
    },
    {
      "cell_type": "code",
      "source": [
        "#The label\n",
        "digits.target[0]"
      ],
      "metadata": {
        "colab": {
          "base_uri": "https://localhost:8080/"
        },
        "id": "AP15zx3Q5nxV",
        "outputId": "0b1c4196-1c2d-4d96-e02f-69e8a0e3a405"
      },
      "execution_count": 11,
      "outputs": [
        {
          "output_type": "execute_result",
          "data": {
            "text/plain": [
              "np.int64(0)"
            ]
          },
          "metadata": {},
          "execution_count": 11
        }
      ]
    },
    {
      "cell_type": "code",
      "source": [],
      "metadata": {
        "id": "fXGoik6f5tuc"
      },
      "execution_count": null,
      "outputs": []
    }
  ]
}